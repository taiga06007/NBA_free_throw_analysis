{
 "cells": [
  {
   "cell_type": "markdown",
   "metadata": {},
   "source": [
    "<h1> NBA Free Throws Analysis </h1>\n",
    "<p>The data scource from <a href = 'https://www.kaggle.com/sebastianmantey/nba-free-throws' >NBA Free Throws | Kaggle  </a></p>\n",
    "<p>Over 600k free throws between 2006 and 2016</p>"
   ]
  },
  {
   "cell_type": "markdown",
   "metadata": {},
   "source": [
    "<p> What I going to do is below</p>\n",
    "<ul>\n",
    "    <li> 1,The difference in shooting success rate between regular season and playoffs</li>\n",
    "    <li> 2, Predicting the success rate of a particular player's shot</li>\n",
    "</ul>"
   ]
  },
  {
   "cell_type": "code",
   "execution_count": 55,
   "metadata": {},
   "outputs": [],
   "source": [
    "import pandas as pd\n",
    "import numpy as np\n",
    "import matplotlib.pyplot as plt\n",
    "import seaborn as sns\n",
    "from sklearn import tree\n",
    "from sklearn.ensemble import RandomForestClassifier\n",
    "from sklearn.linear_model import LogisticRegression\n",
    "from sklearn.model_selection import train_test_split\n",
    "from sklearn.preprocessing import StandardScaler\n"
   ]
  },
  {
   "cell_type": "code",
   "execution_count": 65,
   "metadata": {},
   "outputs": [
    {
     "name": "stdout",
     "output_type": "stream",
     "text": [
      "  end_result       game      game_id  period  \\\n",
      "0  106 - 114  PHX - LAL  261031013.0     1.0   \n",
      "1  106 - 114  PHX - LAL  261031013.0     1.0   \n",
      "2  106 - 114  PHX - LAL  261031013.0     1.0   \n",
      "3  106 - 114  PHX - LAL  261031013.0     1.0   \n",
      "4  106 - 114  PHX - LAL  261031013.0     1.0   \n",
      "\n",
      "                                    play        player playoffs    score  \\\n",
      "0   Andrew Bynum makes free throw 1 of 2  Andrew Bynum  regular    0 - 1   \n",
      "1   Andrew Bynum makes free throw 2 of 2  Andrew Bynum  regular    0 - 2   \n",
      "2   Andrew Bynum makes free throw 1 of 2  Andrew Bynum  regular  18 - 12   \n",
      "3  Andrew Bynum misses free throw 2 of 2  Andrew Bynum  regular  18 - 12   \n",
      "4   Shawn Marion makes free throw 1 of 1  Shawn Marion  regular  21 - 12   \n",
      "\n",
      "        season  shot_made   time  \n",
      "0  2006 - 2007          1  11:45  \n",
      "1  2006 - 2007          1  11:45  \n",
      "2  2006 - 2007          1   7:26  \n",
      "3  2006 - 2007          0   7:26  \n",
      "4  2006 - 2007          1   7:18  \n",
      "end_result    False\n",
      "game          False\n",
      "game_id       False\n",
      "period        False\n",
      "play          False\n",
      "player        False\n",
      "playoffs      False\n",
      "score         False\n",
      "season        False\n",
      "shot_made     False\n",
      "time          False\n",
      "dtype: bool\n",
      "end_result     object\n",
      "game           object\n",
      "game_id       float64\n",
      "period        float64\n",
      "play           object\n",
      "player         object\n",
      "playoffs       object\n",
      "score          object\n",
      "season         object\n",
      "shot_made       int64\n",
      "time           object\n",
      "dtype: object\n"
     ]
    }
   ],
   "source": [
    "#read csv by panda\n",
    "df = pd.read_csv('free_throws.csv')\n",
    "print(df.head())\n",
    "print(df.isna().any())\n",
    "print(df.dtypes)"
   ]
  },
  {
   "cell_type": "markdown",
   "metadata": {},
   "source": [
    "<h3>1.1, The difference in shooting success rate between regular season and playoffs by period</h3>"
   ]
  },
  {
   "cell_type": "code",
   "execution_count": 66,
   "metadata": {},
   "outputs": [
    {
     "name": "stdout",
     "output_type": "stream",
     "text": [
      "playoffs  playoffs   regular  playoff_rate  regular_rate  period\n",
      "period                                                          \n",
      "1.0         5856.0   82602.0      0.752699      0.756553       1\n",
      "2.0         7825.0  108338.0      0.745096      0.753834       2\n",
      "3.0         7935.0  109260.0      0.754206      0.760932       3\n",
      "4.0         9743.0  131108.0      0.755799      0.756149       4\n",
      "5.0          302.0    3927.0      0.801061      0.775780       5\n",
      "Index(['playoffs', 'regular', 'playoff_rate', 'regular_rate', 'period'], dtype='object', name='playoffs')\n"
     ]
    }
   ],
   "source": [
    "# make the df for creating the chart\n",
    "succes_by_quater =  df.groupby(['period', 'playoffs']).shot_made.sum().unstack()\n",
    "total_by_quater = df.groupby(['period', 'playoffs']).shot_made.count().unstack()\n",
    "succes_by_quater['playoff_rate'] = succes_by_quater['playoffs']/total_by_quater['playoffs']\n",
    "succes_by_quater['regular_rate'] = succes_by_quater['regular'] / total_by_quater['regular']\n",
    "\n",
    "succes_by_quater = succes_by_quater.drop([6,7,8])\n",
    "succes_by_quater = succes_by_quater.assign(period = list(range(1,6)))\n",
    "\n",
    "\n",
    "\n",
    "print(succes_by_quater.head(10))\n",
    "print(succes_by_quater.columns)"
   ]
  },
  {
   "cell_type": "code",
   "execution_count": 58,
   "metadata": {},
   "outputs": [
    {
     "data": {
      "text/plain": [
       "Text(0.5, 1.0, 'Free throw success rate between regular season and playoffs by period')"
      ]
     },
     "execution_count": 58,
     "metadata": {},
     "output_type": "execute_result"
    },
    {
     "data": {
      "image/png": "[encoded data removed]",
      "text/plain": [
       "<Figure size 720x360 with 1 Axes>"
      ]
     },
     "metadata": {
      "needs_background": "light"
     },
     "output_type": "display_data"
    }
   ],
   "source": [
    "#create plots\n",
    "f,ax = plt.subplots(figsize=(10,5))\n",
    "sns.set(style=\"darkgrid\")\n",
    "sns.lineplot(x=\"period\", y=\"playoff_rate\",data=succes_by_quater)\n",
    "sns.lineplot(x=\"period\", y=\"regular_rate\",data=succes_by_quater)\n",
    "plt.legend(['Playoffs','Regular'])\n",
    "ax.set_xticks(succes_by_quater[\"period\"])\n",
    "ax.set_xticklabels(['1Q','2Q','3Q','4Q','OT'])\n",
    "ax.set_title('Free throw success rate between regular season and playoffs by period')\n"
   ]
  },
  {
   "cell_type": "markdown",
   "metadata": {},
   "source": [
    "<b>There are three trends in the chart</b>\n",
    "    <p><b>1.</b>As the game progressed, the free throw success rate slowly increased.On the other hand, as the game drew to a close, the shot success rate dropped. </p>\n",
    "<p>  I guess player's physical exhaustion may influence their success rate</p>\n",
    "\n",
    "<p><b>2.</b>Their free throw success rate in overtime in the playoffs has increased to the extreme.It's likely that the games will be tied during overtime in the playoffs.</p>\n",
    "<p>  The concentration of the players is higher than in the usual matches because it is also a match for the championship.</p>\n",
    "<p>  In proportion to that, I think the free throw success rate will also be higher.</p>\n",
    "<p><b>3.</b>Overall, the ratio of regular season highr than playoffs</p>\n",
    "\n"
   ]
  },
  {
   "cell_type": "markdown",
   "metadata": {},
   "source": [
    "<h3>1.1, The difference in shooting success rate between regular season and playoffs by period</h3>"
   ]
  },
  {
   "cell_type": "code",
   "execution_count": 67,
   "metadata": {},
   "outputs": [
    {
     "name": "stdout",
     "output_type": "stream",
     "text": [
      "playoffs        playoffs  regular  playoff_rate  regular_rate  season\n",
      "season_cleaned                                                       \n",
      "2006                3057    47784      0.742711      0.752551    2006\n",
      "2007                3311    46183      0.755246      0.755661    2007\n",
      "2008                3384    46936      0.759596      0.770706    2008\n",
      "2009                3346    45807      0.752417      0.758934    2009\n",
      "2010                3238    45775      0.773716      0.763527    2010\n",
      "2011                2995    33471      0.754028      0.752377    2011\n",
      "2012                3061    40820      0.750613      0.751777    2012\n",
      "2013                3349    43778      0.763044      0.756084    2013\n",
      "2014                2936    42069      0.725117      0.750134    2014\n",
      "2015                3027    43362      0.747223      0.756701    2015\n",
      "Index(['playoffs', 'regular', 'playoff_rate', 'regular_rate', 'season'], dtype='object', name='playoffs')\n"
     ]
    }
   ],
   "source": [
    "# make the df for creating the chart\n",
    "#categorize seasons column\n",
    "name_split2 = df.season.str.split(' - ')\n",
    "df['season_cleaned'] = name_split2.str.get(0)\n",
    "df['season_cleaned'] = df.season_cleaned.astype(int)\n",
    "\n",
    "succes_by_season =  df.groupby(['season_cleaned', 'playoffs']).shot_made.sum().unstack()\n",
    "total_by_season = df.groupby(['season_cleaned', 'playoffs']).shot_made.count().unstack()\n",
    "succes_by_season['playoff_rate'] = succes_by_season['playoffs']/total_by_season['playoffs']\n",
    "succes_by_season['regular_rate'] = succes_by_season['regular'] / total_by_season['regular']\n",
    "\n",
    "\n",
    "succes_by_season = succes_by_season.assign(season = list(range(2006,2016)))\n",
    "\n",
    "\n",
    "print(succes_by_season)\n",
    "print(succes_by_season.columns)"
   ]
  },
  {
   "cell_type": "code",
   "execution_count": 59,
   "metadata": {},
   "outputs": [
    {
     "data": {
      "text/plain": [
       "Text(0.5, 1.0, 'Free throw success rate between regular season and playoffs by season')"
      ]
     },
     "execution_count": 59,
     "metadata": {},
     "output_type": "execute_result"
    },
    {
     "data": {
      "image/png": "[encoded data removed]",
      "text/plain": [
       "<Figure size 720x360 with 1 Axes>"
      ]
     },
     "metadata": {},
     "output_type": "display_data"
    }
   ],
   "source": [
    "#create plots\n",
    "f,ax = plt.subplots(figsize=(10,5))\n",
    "sns.set(style=\"darkgrid\")\n",
    "sns.lineplot(x=\"season\", y=\"playoff_rate\",data=succes_by_season)\n",
    "sns.lineplot(x=\"season\", y=\"regular_rate\",data=succes_by_season)\n",
    "plt.legend(['Playoffs','Regular'])\n",
    "ax.set_title('Free throw success rate between regular season and playoffs by season')\n",
    "\n"
   ]
  },
  {
   "cell_type": "markdown",
   "metadata": {},
   "source": [
    "<b>There are two trends in the chart</b>\n",
    "<p><b>1.</b>In contrast to the earlier period-by-period figure, the 2010 and 2013 playoffs were higher than the regular season</p>\n",
    "<p><b>2.</b> The playoffs ratio in 2014 dropped suddenly</p>\n",
    "<p> I tried to find a reference about this phenomenon, but I couldn't find it.</p>"
   ]
  },
  {
   "cell_type": "markdown",
   "metadata": {},
   "source": [
    "<h3>Predicting the success rate of a particular player's shot</h3>"
   ]
  },
  {
   "cell_type": "code",
   "execution_count": 68,
   "metadata": {},
   "outputs": [
    {
     "name": "stdout",
     "output_type": "stream",
     "text": [
      "end_result           False\n",
      "game                 False\n",
      "game_id              False\n",
      "period               False\n",
      "play                 False\n",
      "player               False\n",
      "playoffs             False\n",
      "score                False\n",
      "season               False\n",
      "shot_made            False\n",
      "time                 False\n",
      "season_cleaned       False\n",
      "home_score           False\n",
      "away_score           False\n",
      "home_team            False\n",
      "away_team            False\n",
      "home_team_cleaned    False\n",
      "away_team_cleaned    False\n",
      "playoffs_int         False\n",
      "time_cleaned         False\n",
      "id                   False\n",
      "made                  True\n",
      "made_cleaned          True\n",
      "tried                 True\n",
      "tried_cleaned         True\n",
      "made_two              True\n",
      "dtype: bool\n",
      "end_result            object\n",
      "game                  object\n",
      "game_id              float64\n",
      "period                 int64\n",
      "play                  object\n",
      "player                object\n",
      "playoffs              object\n",
      "score                 object\n",
      "season                object\n",
      "shot_made              int64\n",
      "time                  object\n",
      "season_cleaned         int64\n",
      "home_score             int64\n",
      "away_score             int64\n",
      "home_team             object\n",
      "away_team             object\n",
      "home_team_cleaned      int64\n",
      "away_team_cleaned      int64\n",
      "playoffs_int           int64\n",
      "time_cleaned           int64\n",
      "id                     int64\n",
      "made                  object\n",
      "made_cleaned         float64\n",
      "tried                 object\n",
      "tried_cleaned        float64\n",
      "made_two             float64\n",
      "dtype: object\n",
      "   home_score  away_score  home_team_cleaned  away_team_cleaned        player  \\\n",
      "0         106         114                 19                  5  Andrew Bynum   \n",
      "1         106         114                 19                  5  Andrew Bynum   \n",
      "2         106         114                 19                  5  Andrew Bynum   \n",
      "3         106         114                 19                  5  Andrew Bynum   \n",
      "4         106         114                 19                  5  Shawn Marion   \n",
      "\n",
      "   shot_made  playoffs_int  time_cleaned  season_cleaned  period  \n",
      "0          1             0            11            2006       1  \n",
      "1          1             0            11            2006       1  \n",
      "2          1             0             7            2006       1  \n",
      "3          0             0             7            2006       1  \n",
      "4          1             0             7            2006       1  \n",
      "523481\n"
     ]
    }
   ],
   "source": [
    "\"\"\" \n",
    "Examples of data cleaning\n",
    "end result: split into two value \n",
    "game : change team names to numeric values\n",
    "playoffs: regular:0 playoff:1\n",
    "time: 11:59 ~ 11:00 → 12, 10:59 ~ 10:00 → 11\n",
    "make the ID for each players\n",
    "\"\"\"\n",
    "\n",
    "# split end_result into home, away\n",
    "name_split = df.end_result.str.split(' - ')\n",
    "df['home_score'] = name_split.str.get(0)\n",
    "df['away_score'] = name_split.str.get(1)\n",
    "df['home_score'] = df.home_score.astype(int)\n",
    "df['away_score'] = df.away_score.astype(int)\n",
    "\n",
    "#split game into home team and away team \n",
    "name_split = df.game.str.split(' - ')\n",
    "df['home_team'] = name_split.str.get(0)\n",
    "df['away_team'] = name_split.str.get(1)\n",
    "\n",
    "#change team name to numeric value\n",
    "#print(df.home_team.value_counts())\n",
    "team_mapping = {'BOS': 0,'UTAH': 1,'CLE': 2,'GS': 3,'DEN': 4,'LAL': 5,'MIA': 6,'IND': 7,'LAC': 8,'HOU': 9,'CHI': 10,'ORL': 11,'TOR': 12,\n",
    "                'MEM': 13,'SAC': 14,'SA': 15,'ATL': 16,'DAL': 17, 'WSH': 18,'PHX': 19,'DET': 20,'MIL': 21,'PHI': 22,'NY': 23,'POR': 24,     \n",
    "                'MIN': 25,'CHA': 26,'NO': 27,'OKC': 28,'NJ': 29,'BKN': 30,'SEA': 31,'EAST': 32,'WEST': 33}\n",
    "\n",
    "\n",
    "\n",
    "df['home_team_cleaned'] = df.home_team.map(team_mapping)\n",
    "df['away_team_cleaned'] = df.away_team.map(team_mapping)\n",
    "\n",
    "#change playoff to numeric value\n",
    "df['playoffs_int'] = df.playoffs.map({'regular': 0,'playoffs': 1})\n",
    "\n",
    "\n",
    "#categorize time columns \n",
    "name_split1 = df.time.str.split(':')\n",
    "df['time_cleaned'] = name_split1.str.get(0)\n",
    "df['time_cleaned'] = df.time_cleaned.astype(int)\n",
    "\n",
    "#change period value to int \n",
    "df['period'] = df.period.astype(int)\n",
    "\n",
    "#make the ID for each players\n",
    "df['id'] = df.groupby(['player']).ngroup()\n",
    "\n",
    "#Andrew Bynum makes free throw 1 of 2  \n",
    "name_split = df.play.str.split(' ')\n",
    "df['made'] = name_split.str.get(5)\n",
    "\n",
    "def int_str(x):\n",
    "    if len(x) == 1:\n",
    "        return int(x)\n",
    "    else:\n",
    "        return np.nan\n",
    "    \n",
    "df['made_cleaned'] = df.made.apply(lambda x:int_str(str(x)))\n",
    "df['tried'] = name_split.str.get(7)\n",
    "df['tried_cleaned'] = df.tried.apply(lambda x:int_str(str(x)))\n",
    "\n",
    "def made_two_generator(made,tried):\n",
    "    if made == 2 and tried == 2:\n",
    "        return 1\n",
    "    elif made <2 and tried == 2:\n",
    "        return 0\n",
    "    elif made <=1 and tried == 1:\n",
    "        return np.nan\n",
    "    else:\n",
    "        return np.nan\n",
    "        \n",
    "\n",
    "\n",
    "\n",
    "df['made_two'] = df.apply(lambda x: made_two_generator(x.made_cleaned, x.tried_cleaned), axis=1)\n",
    "\n",
    "# see if there are any null values\n",
    "print(df.isna().any())\n",
    "\n",
    "# see data types\n",
    "print(df.dtypes)\n",
    "\n",
    "df_ml = df[['home_score','away_score','home_team_cleaned','away_team_cleaned','player','shot_made','playoffs_int','time_cleaned','season_cleaned','period']]\n",
    "print(df_ml.head())\n",
    "df = df.dropna(subset = ['made_two'])\n",
    "print(len(df))\n"
   ]
  },
  {
   "cell_type": "code",
   "execution_count": 8,
   "metadata": {},
   "outputs": [],
   "source": [
    "#specify players. This time, my favorite player are Lebron, Kobe, carmelo, Dwight haward\n",
    "# Lebron James \n",
    "lebron_james = df_ml.loc[df_ml['player'].isin(['LeBron James'])]\n",
    "\n",
    "#Kobe Bryant\n",
    "kobe_bryant = df_ml.loc[df_ml['player'].isin(['Kobe Bryant'])]\n",
    "\n",
    "#Carmelo Anthony\n",
    "carmelo_anthony = df_ml.loc[df_ml['player'].isin(['Carmelo Anthony'])]\n",
    "\n",
    "#Dwight Howard\n",
    "dwight_howard = df_ml.loc[df_ml['player'].isin(['Dwight Howard'])]\n",
    "\n",
    "\n",
    "\n",
    "\n",
    "    "
   ]
  },
  {
   "cell_type": "code",
   "execution_count": 10,
   "metadata": {},
   "outputs": [],
   "source": [
    "# split into test data and train data , then make a model by LogisticRegression\n",
    "\n",
    "\n",
    "def logisttic_model(df):\n",
    "    # divide into features and labels\n",
    "    features = df[['home_score','away_score','home_team_cleaned','away_team_cleaned','playoffs_int','time_cleaned','season_cleaned','period']]\n",
    "    labels = df['shot_made']\n",
    "    \n",
    "    #divide into train and test sets\n",
    "    train_data,test_data,train_labels,test_labels = train_test_split(features,labels,test_size = 0.20, random_state = 50)\n",
    "    \n",
    "    #normalize data\n",
    "    scaler = StandardScaler()\n",
    "    train_scaled = scaler.fit_transform(train_data)\n",
    "    test_scaled = scaler.transform(test_data)\n",
    "    \n",
    "    #create and evaluate model\n",
    "    model = LogisticRegression()\n",
    "    model.fit(train_scaled,train_labels)\n",
    "    print(model.score(test_scaled,test_labels))\n",
    "    print(list(zip(['home_score','away_score','home_team_cleaned','away_team_cleaned','playoffs_int','time_cleaned','season_cleaned','period'],model.coef_[0])))"
   ]
  },
  {
   "cell_type": "code",
   "execution_count": 183,
   "metadata": {},
   "outputs": [
    {
     "name": "stdout",
     "output_type": "stream",
     "text": [
      "0.7545284197376639\n",
      "[('home_score', 0.04604104735071429), ('away_score', 0.027660076907492327), ('home_team_cleaned', 0.09546455404631334), ('away_team_cleaned', 0.06545068226428985), ('playoffs_int', 0.006377348811091405), ('time_cleaned', -0.03326177075511391), ('season_cleaned', -0.023184719956830645), ('period', 0.029594605620514053)]\n"
     ]
    }
   ],
   "source": [
    "#load player dataframe into logistic_model\n",
    "logisttic_model(lebron_james)\n",
    "\n"
   ]
  },
  {
   "cell_type": "code",
   "execution_count": 184,
   "metadata": {},
   "outputs": [
    {
     "name": "stdout",
     "output_type": "stream",
     "text": [
      "0.838248436103664\n",
      "[('home_score', 0.031219741137817295), ('away_score', 0.08082698099157398), ('home_team_cleaned', 0.0044620510821900975), ('away_team_cleaned', 0.07757077551336737), ('playoffs_int', 0.023031873685546895), ('time_cleaned', -0.058900387222213815), ('season_cleaned', -0.10275473672172529), ('period', -0.02347985720741283)]\n"
     ]
    }
   ],
   "source": [
    "logisttic_model(kobe_bryant)"
   ]
  },
  {
   "cell_type": "code",
   "execution_count": 150,
   "metadata": {},
   "outputs": [
    {
     "name": "stdout",
     "output_type": "stream",
     "text": [
      "0.8139097744360902\n",
      "[('home_score', 0.07035190509626564), ('away_score', -0.0010529798982656074), ('home_team_cleaned', -0.01835807345660856), ('away_team_cleaned', -0.023809615538560102), ('playoffs_int', 0.07673549065896525), ('time_cleaned', -0.009927224359446199), ('season_cleaned', 0.09742757741568861), ('period', 0.018274098825077013)]\n"
     ]
    }
   ],
   "source": [
    "logisttic_model(carmelo_anthony)"
   ]
  },
  {
   "cell_type": "code",
   "execution_count": 151,
   "metadata": {},
   "outputs": [
    {
     "name": "stdout",
     "output_type": "stream",
     "text": [
      "0.5608020698576973\n",
      "[('home_score', 0.07485247437778965), ('away_score', 0.03339509502701888), ('home_team_cleaned', 0.00990674976849196), ('away_team_cleaned', -0.023138504305217793), ('playoffs_int', 0.00042640804989079573), ('time_cleaned', -0.06035835885872326), ('season_cleaned', -0.15399911330848967), ('period', 0.006325654545448333)]\n"
     ]
    }
   ],
   "source": [
    "logisttic_model(dwight_howard)\n",
    "#Only dwight_howard. External factors may not affect the success rate of free throws"
   ]
  },
  {
   "cell_type": "code",
   "execution_count": 36,
   "metadata": {},
   "outputs": [
    {
     "name": "stdout",
     "output_type": "stream",
     "text": [
      "651\n",
      "93\n",
      "321\n",
      "620\n",
      "303\n",
      "150\n"
     ]
    }
   ],
   "source": [
    "def id_generator(df,name):\n",
    "    name_df = df.loc[df['player'].isin([name])]\n",
    "    id_list = []\n",
    "    name_df = name_df.id.apply(lambda x:id_list.append(x))\n",
    "    return id_list[0]\n",
    "    \n",
    "\n",
    "print(id_generator(df,'LeBron James'))\n",
    "print(id_generator(df,'Ben Wallace'))\n",
    "print(id_generator(df,'Dwight Howard'))\n",
    "print(id_generator(df,'Kobe Bryant'))\n",
    "print(id_generator(df,'Dirk Nowitzki'))\n",
    "print(id_generator(df,'Carmelo Anthony'))\n",
    "\n",
    "\n",
    "\n"
   ]
  },
  {
   "cell_type": "code",
   "execution_count": 70,
   "metadata": {},
   "outputs": [
    {
     "name": "stdout",
     "output_type": "stream",
     "text": [
      "0.49724442916224915\n",
      "[('home_team_cleaned', 0.003191737066249297), ('away_team_cleaned', -0.0011072885770554547), ('playoffs_int', 0.0004437734449435953), ('time_cleaned', 0.0009507709290578133), ('season_cleaned', 0.0017109204177706999), ('period', 0.0008536385681822332), ('id', -8.191267471461737e-05)]\n",
      "[0. 1. 0. 1. 1. 1.]\n",
      "[[0.50104055 0.49895945]\n",
      " [0.49936971 0.50063029]\n",
      " [0.50020153 0.49979847]\n",
      " [0.41691475 0.58308525]\n",
      " [0.41583538 0.58416462]\n",
      " [0.40414243 0.59585757]]\n",
      "54.0%\n"
     ]
    }
   ],
   "source": [
    "#try to improve lebrons score\n",
    "# can the model predict whether player make both of their free throws\n",
    "\n",
    "# divide into features and labels\n",
    "\n",
    "features = df[['home_team_cleaned','away_team_cleaned','playoffs_int','time_cleaned','season_cleaned','period','id']]\n",
    "labels = df['made_two']\n",
    "\n",
    "#divide into train and test sets\n",
    "train_data,test_data,train_labels,test_labels = train_test_split(features,labels,test_size = 0.20,random_state = 50)\n",
    "\n",
    "#normalize data\n",
    "\n",
    "scaler = StandardScaler()\n",
    "train_scaled = scaler.fit_transform(train_data)\n",
    "test_scaled = scaler.transform(test_data)\n",
    "\n",
    "\n",
    "#load sample data for prediction\n",
    "\n",
    "\"\"\"\n",
    "1\n",
    "home team : CLE\n",
    "away team : BOS\n",
    "playoffs : regular\n",
    "period : 4\n",
    "Player : Lebron James\n",
    "\n",
    "2\n",
    "home team : DTL\n",
    "away team : BOS\n",
    "playoffs : regular\n",
    "period : 4\n",
    "Player : Ben Wallace\n",
    "\n",
    "3\n",
    "home team : ORL\n",
    "away team : BOS\n",
    "playoffs : regular\n",
    "period : 4\n",
    "Player : Dwight Howard\n",
    "\n",
    "4\n",
    "\n",
    "home team : LAL\n",
    "away team : BOS\n",
    "playoffs : regular\n",
    "period : 4\n",
    "Player : Kobe Bryant\n",
    "\n",
    "5\n",
    "home score : 110\n",
    "away score : 109\n",
    "home team : DAL\n",
    "away team : BOS\n",
    "playoffs : regular\n",
    "period : 4\n",
    "Player : Dirk Nowitzki\n",
    "\n",
    "6\n",
    "home team : NYC\n",
    "away team : BOS\n",
    "playoffs : regular\n",
    "period : 4\n",
    "Player : Carmelo Anthony\n",
    "\"\"\"\n",
    "\n",
    "sample1 = np.array([2,0,0,0,2008,4,661])\n",
    "sample2 = np.array([20,0,0,0,2008,4,93])\n",
    "sample3 = np.array([11,0,0,0,2008,4,321])\n",
    "sample4 = np.array([5,0,0,0,4,2008,628])\n",
    "sample5 = np.array([17,0,0,0,4,2008,303])\n",
    "sample6 = np.array([150,0,0,0,4,2008,150])\n",
    "sample_score = np.array([sample1,sample2,sample3,sample4,sample5,sample6])\n",
    "sample = scaler.transform(sample_score)\n",
    "\n",
    "\n",
    "#create and evaluate model\n",
    "model = LogisticRegression(C= 0.3,random_state = 50)\n",
    "model.fit(train_scaled,train_labels)\n",
    "labels_pred = model.predict(test_scaled)\n",
    "print(model.score(test_scaled,test_labels))\n",
    "print(list(zip(['home_team_cleaned','away_team_cleaned','playoffs_int','time_cleaned','season_cleaned','period','id'],model.coef_[0])))\n",
    "\n",
    "#put the data and predict whther Lebron can make a shot or not\n",
    "print(model.predict(sample))\n",
    "free_throw_probability = model.predict_proba(sample)\n",
    "print(free_throw_probability)\n",
    "\n",
    "#Check Lebron's sucess rate of free thorws\n",
    "made_shot = []\n",
    "for i in free_throw_probability :\n",
    "    made_shot.append(i[1])\n",
    "made_shot = np.array(made_shot)\n",
    "rate = np.mean(made_shot)*100.0\n",
    "rate = np.round_(rate)\n",
    "print(str(rate)+\"%\")\n",
    "\n",
    "\n",
    "#little bit improved \n",
    "\n"
   ]
  },
  {
   "cell_type": "markdown",
   "metadata": {},
   "source": [
    "<h3>Model Evaluation using Confusion Matrix</h3>"
   ]
  },
  {
   "cell_type": "code",
   "execution_count": 72,
   "metadata": {},
   "outputs": [
    {
     "data": {
      "text/plain": [
       "array([[25075, 27228],\n",
       "       [25409, 26985]])"
      ]
     },
     "execution_count": 72,
     "metadata": {},
     "output_type": "execute_result"
    }
   ],
   "source": [
    "# import the metrics class\n",
    "from sklearn import metrics\n",
    "cnf_matrix = metrics.confusion_matrix(test_labels, labels_pred)\n",
    "cnf_matrix"
   ]
  },
  {
   "cell_type": "code",
   "execution_count": 73,
   "metadata": {},
   "outputs": [
    {
     "data": {
      "text/plain": [
       "Text(0.5, 257.44, 'Predicted label')"
      ]
     },
     "execution_count": 73,
     "metadata": {},
     "output_type": "execute_result"
    },
    {
     "data": {
      "image/png": "[encoded data removed]",
      "text/plain": [
       "<Figure size 432x288 with 2 Axes>"
      ]
     },
     "metadata": {},
     "output_type": "display_data"
    }
   ],
   "source": [
    "class_names=[0,1] # name  of classes\n",
    "fig, ax = plt.subplots()\n",
    "tick_marks = np.arange(len(class_names))\n",
    "plt.xticks(tick_marks, class_names)\n",
    "plt.yticks(tick_marks, class_names)\n",
    "# create heatmap\n",
    "sns.heatmap(pd.DataFrame(cnf_matrix), annot=True, cmap=\"YlGnBu\" ,fmt='g')\n",
    "ax.xaxis.set_label_position(\"top\")\n",
    "plt.tight_layout()\n",
    "plt.title('Confusion matrix', y=1.1)\n",
    "plt.ylabel('Actual label')\n",
    "plt.xlabel('Predicted label')"
   ]
  },
  {
   "cell_type": "code",
   "execution_count": 83,
   "metadata": {},
   "outputs": [
    {
     "name": "stdout",
     "output_type": "stream",
     "text": [
      "Accuracy: 0.49724442916224915\n",
      "Precision: 0.49775884013059596\n",
      "Recall: 0.5150398900637477\n",
      "F1: 0.49724442916224915\n"
     ]
    }
   ],
   "source": [
    "print(\"Accuracy:\",metrics.accuracy_score(test_labels, labels_pred))\n",
    "print(\"Precision:\",metrics.precision_score(test_labels, labels_pred))\n",
    "print(\"Recall:\",metrics.recall_score(test_labels, labels_pred))\n",
    "print(\"F1:\",metrics.f1_score(test_labels, labels_pred, average = 'micro'))"
   ]
  },
  {
   "cell_type": "code",
   "execution_count": 84,
   "metadata": {},
   "outputs": [
    {
     "data": {
      "image/png": "[encoded data removed]",
      "text/plain": [
       "<Figure size 432x288 with 1 Axes>"
      ]
     },
     "metadata": {},
     "output_type": "display_data"
    }
   ],
   "source": [
    "labels_pred_proba = model.predict_proba(test_scaled)[::,1]\n",
    "fpr, tpr, _ = metrics.roc_curve(test_labels,  labels_pred_proba)\n",
    "auc = metrics.roc_auc_score(test_labels, labels_pred_proba)\n",
    "plt.plot(fpr,tpr,label=\"data 1, auc=\"+str(auc))\n",
    "plt.legend(loc=4)\n",
    "plt.show()"
   ]
  },
  {
   "cell_type": "markdown",
   "metadata": {},
   "source": [
    "<p>The model is not accurate. (The score has 49%)</p>\n",
    "<p>I couldn't find a decisive factor.</p>"
   ]
  },
  {
   "cell_type": "code",
   "execution_count": null,
   "metadata": {},
   "outputs": [],
   "source": []
  }
 ],
 "metadata": {
  "kernelspec": {
   "display_name": "Python 3",
   "language": "python",
   "name": "python3"
  },
  "language_info": {
   "codemirror_mode": {
    "name": "ipython",
    "version": 3
   },
   "file_extension": ".py",
   "mimetype": "text/x-python",
   "name": "python",
   "nbconvert_exporter": "python",
   "pygments_lexer": "ipython3",
   "version": "3.7.6"
  }
 },
 "nbformat": 4,
 "nbformat_minor": 4
}
